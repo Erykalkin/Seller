{
 "cells": [
  {
   "cell_type": "code",
   "execution_count": 1,
   "metadata": {},
   "outputs": [],
   "source": [
    "from decouple import config\n",
    "from openai import OpenAI"
   ]
  },
  {
   "cell_type": "code",
   "execution_count": 3,
   "metadata": {},
   "outputs": [
    {
     "name": "stdout",
     "output_type": "stream",
     "text": [
      "Assistant(id='asst_pINUE7tmo4Kld4bWMZOtDajO', created_at=1752746339, description=None, instructions='empty prompt', metadata={}, model='gpt-4o', name='Seller', object='assistant', tools=[], response_format='auto', temperature=1.0, tool_resources=ToolResources(code_interpreter=None, file_search=None), top_p=1.0, reasoning_effort=None)\n"
     ]
    }
   ],
   "source": [
    "сlient = OpenAI(api_key=config('OPENAI_API_KEY'))\n",
    "\n",
    "my_assistant = сlient.beta.assistants.create(\n",
    "    instructions=\"empty prompt\",\n",
    "    name='Seller',\n",
    "    tools=[],\n",
    "    model=\"gpt-4o\",\n",
    ")\n",
    "\n",
    "print(my_assistant)"
   ]
  },
  {
   "cell_type": "code",
   "execution_count": null,
   "metadata": {},
   "outputs": [
    {
     "name": "stdout",
     "output_type": "stream",
     "text": [
      "{'created_at': 1752746339,\n",
      " 'description': None,\n",
      " 'id': 'asst_pINUE7tmo4Kld4bWMZOtDajO',\n",
      " 'instructions': 'empty prompt',\n",
      " 'metadata': {},\n",
      " 'model': 'gpt-4o',\n",
      " 'name': 'Seller',\n",
      " 'object': 'assistant',\n",
      " 'reasoning_effort': None,\n",
      " 'response_format': 'auto',\n",
      " 'temperature': 1.0,\n",
      " 'tool_resources': {'code_interpreter': None, 'file_search': None},\n",
      " 'tools': [],\n",
      " 'top_p': 1.0}\n"
     ]
    }
   ],
   "source": [
    "import pprint\n",
    "pprint.pprint(my_assistant.model_dump())"
   ]
  },
  {
   "cell_type": "code",
   "execution_count": 8,
   "metadata": {},
   "outputs": [],
   "source": [
    "def update_env_variable(key, value, env_file=\".env\"):\n",
    "    lines = []\n",
    "    updated = False\n",
    "\n",
    "    with open(env_file, \"r\") as f:\n",
    "        for line in f:\n",
    "            if line.strip().startswith(f\"{key}=\"):\n",
    "                lines.append(f\"{key}={value}\\n\")\n",
    "                updated = True\n",
    "            else:\n",
    "                lines.append(line)\n",
    "\n",
    "    if not updated:\n",
    "        lines.append(f\"{key}={value}\\n\")\n",
    "\n",
    "    with open(env_file, \"w\") as f:\n",
    "        f.writelines(lines)\n",
    "\n",
    "update_env_variable(\"ASSISTANT_ID\", my_assistant.model_dump()['id'])"
   ]
  },
  {
   "cell_type": "code",
   "execution_count": 10,
   "metadata": {},
   "outputs": [],
   "source": [
    "import sqlite3\n",
    "\n",
    "# === Инициализация базы данных ===\n",
    "conn = sqlite3.connect(\"users.db\", check_same_thread=False)\n",
    "cur = conn.cursor()\n",
    "\n",
    "cur.execute(\"\"\"\n",
    "CREATE TABLE IF NOT EXISTS users (\n",
    "    user_id INTEGER PRIMARY KEY,\n",
    "    username TEXT,\n",
    "    thread_id TEXT\n",
    ")\n",
    "\"\"\")\n",
    "conn.commit()"
   ]
  },
  {
   "cell_type": "code",
   "execution_count": 11,
   "metadata": {},
   "outputs": [
    {
     "name": "stdout",
     "output_type": "stream",
     "text": [
      "Три пользователя успешно добавлены в базу данных.\n"
     ]
    }
   ],
   "source": [
    "# Подключаемся к существующей базе\n",
    "conn = sqlite3.connect(\"users.db\")\n",
    "cur = conn.cursor()\n",
    "\n",
    "# Список тестовых пользователей (user_id, username, thread_id)\n",
    "users = [\n",
    "    (1111111, \"user_one\", \"thread_abc123\"),\n",
    "    (2222222, \"user_two\", \"thread_def456\"),\n",
    "    (3333333, \"user_three\", \"thread_xyz789\"),\n",
    "]\n",
    "\n",
    "# Вставка данных\n",
    "cur.executemany(\n",
    "    \"INSERT OR REPLACE INTO users (user_id, username, thread_id) VALUES (?, ?, ?)\",\n",
    "    users\n",
    ")\n",
    "\n",
    "# Сохраняем изменения и закрываем соединение\n",
    "conn.commit()\n",
    "conn.close()\n",
    "\n",
    "print(\"Три пользователя успешно добавлены в базу данных.\")"
   ]
  },
  {
   "cell_type": "code",
   "execution_count": 12,
   "metadata": {},
   "outputs": [],
   "source": [
    "def add_user_to_db(user_id: int, username: str = \"\") -> str:\n",
    "    conn = sqlite3.connect(\"users.db\")\n",
    "    cur = conn.cursor()\n",
    "\n",
    "    # Проверим, есть ли уже такой пользователь\n",
    "    cur.execute(\"SELECT thread_id FROM users WHERE user_id = ?\", (user_id,))\n",
    "    existing = cur.fetchone()\n",
    "    if existing:\n",
    "        conn.close()\n",
    "        return existing[0]  # Уже есть, возвращаем существующий thread_id\n",
    "\n",
    "    # Создаём новый thread\n",
    "    # thread = client.beta.threads.create()\n",
    "\n",
    "    # Добавляем пользователя\n",
    "    cur.execute(\n",
    "        \"INSERT INTO users (user_id, username, thread_id) VALUES (?, ?, ?)\",\n",
    "        (user_id, username, 'thread_id')\n",
    "    )\n",
    "    conn.commit()\n",
    "    conn.close()"
   ]
  },
  {
   "cell_type": "code",
   "execution_count": 14,
   "metadata": {},
   "outputs": [
    {
     "name": "stdout",
     "output_type": "stream",
     "text": [
      "Добавлен новый пользователь с thread_id: None\n"
     ]
    }
   ],
   "source": [
    "new_thread_id = add_user_to_db(user_id=4444444, username=\"user_four\")\n",
    "print(f\"Добавлен новый пользователь с thread_id: {new_thread_id}\")"
   ]
  },
  {
   "cell_type": "code",
   "execution_count": 4,
   "metadata": {},
   "outputs": [
    {
     "data": {
      "text/plain": [
       "<coroutine object Start.start at 0x00000240B6B80740>"
      ]
     },
     "execution_count": 4,
     "metadata": {},
     "output_type": "execute_result"
    }
   ],
   "source": [
    "from pyrogram import Client\n",
    "from decouple import config\n",
    "\n",
    "bot = Client(\n",
    "    name=config('LOGIN'),\n",
    "    api_id=config('API_ID'),\n",
    "    api_hash=config('API_HASH'),\n",
    "    phone_number=config('PHONE')\n",
    ")\n",
    "bot.start()"
   ]
  },
  {
   "cell_type": "code",
   "execution_count": 18,
   "metadata": {},
   "outputs": [
    {
     "name": "stdout",
     "output_type": "stream",
     "text": [
      "+------------+---------------+--------------+--------+-----------+----------+----------------+-------------+-----------------------------------+-----------+\n",
      "|         Id | Username      |    Telephone | Name   |   Contact |   Banned |   Added to CRM | Thread ID   | Info                              | Summary   |\n",
      "+============+===============+==============+========+===========+==========+================+=============+===================================+===========+\n",
      "| 7529377948 | AleksnotAleks | +79910372986 |        |         0 |        0 |              0 |             | TG TELEPHONE NUBMER: +79910372986 |           |\n",
      "+------------+---------------+--------------+--------+-----------+----------+----------------+-------------+-----------------------------------+-----------+\n",
      "| 7590032636 | nickoraguaua  |              |        |         0 |        0 |              0 |             | TG TELEPHONE NUBMER: None         |           |\n",
      "+------------+---------------+--------------+--------+-----------+----------+----------------+-------------+-----------------------------------+-----------+\n"
     ]
    }
   ],
   "source": [
    "from database import*\n",
    "from pyrogram import Client\n",
    "from decouple import config\n",
    "\n",
    "bot = Client(\n",
    "    name='test_session',\n",
    "    api_id=config('API_ID'),\n",
    "    api_hash=config('API_HASH'),\n",
    "    phone_number=config('PHONE')\n",
    ")\n",
    "\n",
    "async def run():\n",
    "    await bot.start()\n",
    "\n",
    "    init_db()\n",
    "\n",
    "    # delete_user_by_name('Endergosha')\n",
    "    delete_user_by_name('abracadabra12331')\n",
    "    delete_user_by_name('AleksnotAleks')\n",
    "    delete_user_by_name('nickoraguaua')\n",
    "\n",
    "    # await add_user_by_name(bot, 'Endergosha')\n",
    "    await add_user_by_name(bot, 'abracadabra12331')\n",
    "    await add_user_by_name(bot, 'AleksnotAleks')\n",
    "    await add_user_by_name(bot, 'nickoraguaua')\n",
    "\n",
    "    show_users(sorted_by_contact=True)\n",
    "\n",
    "    await bot.stop()\n",
    "\n",
    "await run()"
   ]
  },
  {
   "cell_type": "code",
   "execution_count": 16,
   "metadata": {},
   "outputs": [
    {
     "name": "stdout",
     "output_type": "stream",
     "text": [
      "+------------+---------------+--------------+--------+-----------+----------+----------------+-------------+-----------------------------------+-----------+\n",
      "|         Id | Username      |    Telephone | Name   |   Contact |   Banned |   Added to CRM | Thread ID   | Info                              | Summary   |\n",
      "+============+===============+==============+========+===========+==========+================+=============+===================================+===========+\n",
      "| 7529377948 | AleksnotAleks | +79910372986 |        |         0 |        0 |              0 |             | TG TELEPHONE NUBMER: +79910372986 |           |\n",
      "+------------+---------------+--------------+--------+-----------+----------+----------------+-------------+-----------------------------------+-----------+\n",
      "| 7590032636 | nickoraguaua  |              |        |         0 |        0 |              0 |             | TG TELEPHONE NUBMER: None         |           |\n",
      "+------------+---------------+--------------+--------+-----------+----------+----------------+-------------+-----------------------------------+-----------+\n"
     ]
    }
   ],
   "source": [
    "show_users(sorted_by_contact=True)"
   ]
  }
 ],
 "metadata": {
  "kernelspec": {
   "display_name": "Python 3",
   "language": "python",
   "name": "python3"
  },
  "language_info": {
   "codemirror_mode": {
    "name": "ipython",
    "version": 3
   },
   "file_extension": ".py",
   "mimetype": "text/x-python",
   "name": "python",
   "nbconvert_exporter": "python",
   "pygments_lexer": "ipython3",
   "version": "3.11.1"
  }
 },
 "nbformat": 4,
 "nbformat_minor": 2
}
