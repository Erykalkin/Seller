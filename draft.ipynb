{
 "cells": [
  {
   "cell_type": "code",
   "execution_count": 1,
   "metadata": {},
   "outputs": [],
   "source": [
    "from decouple import config\n",
    "from openai import OpenAI"
   ]
  },
  {
   "cell_type": "code",
   "execution_count": 3,
   "metadata": {},
   "outputs": [
    {
     "name": "stdout",
     "output_type": "stream",
     "text": [
      "Assistant(id='asst_pINUE7tmo4Kld4bWMZOtDajO', created_at=1752746339, description=None, instructions='empty prompt', metadata={}, model='gpt-4o', name='Seller', object='assistant', tools=[], response_format='auto', temperature=1.0, tool_resources=ToolResources(code_interpreter=None, file_search=None), top_p=1.0, reasoning_effort=None)\n"
     ]
    }
   ],
   "source": [
    "сlient = OpenAI(api_key=config('OPENAI_API_KEY'))\n",
    "\n",
    "my_assistant = сlient.beta.assistants.create(\n",
    "    instructions=\"empty prompt\",\n",
    "    name='Seller',\n",
    "    tools=[],\n",
    "    model=\"gpt-4o\",\n",
    ")\n",
    "\n",
    "print(my_assistant)"
   ]
  },
  {
   "cell_type": "code",
   "execution_count": null,
   "metadata": {},
   "outputs": [
    {
     "name": "stdout",
     "output_type": "stream",
     "text": [
      "{'created_at': 1752746339,\n",
      " 'description': None,\n",
      " 'id': 'asst_pINUE7tmo4Kld4bWMZOtDajO',\n",
      " 'instructions': 'empty prompt',\n",
      " 'metadata': {},\n",
      " 'model': 'gpt-4o',\n",
      " 'name': 'Seller',\n",
      " 'object': 'assistant',\n",
      " 'reasoning_effort': None,\n",
      " 'response_format': 'auto',\n",
      " 'temperature': 1.0,\n",
      " 'tool_resources': {'code_interpreter': None, 'file_search': None},\n",
      " 'tools': [],\n",
      " 'top_p': 1.0}\n"
     ]
    }
   ],
   "source": [
    "import pprint\n",
    "pprint.pprint(my_assistant.model_dump())"
   ]
  },
  {
   "cell_type": "code",
   "execution_count": 8,
   "metadata": {},
   "outputs": [],
   "source": [
    "def update_env_variable(key, value, env_file=\".env\"):\n",
    "    lines = []\n",
    "    updated = False\n",
    "\n",
    "    with open(env_file, \"r\") as f:\n",
    "        for line in f:\n",
    "            if line.strip().startswith(f\"{key}=\"):\n",
    "                lines.append(f\"{key}={value}\\n\")\n",
    "                updated = True\n",
    "            else:\n",
    "                lines.append(line)\n",
    "\n",
    "    if not updated:\n",
    "        lines.append(f\"{key}={value}\\n\")\n",
    "\n",
    "    with open(env_file, \"w\") as f:\n",
    "        f.writelines(lines)\n",
    "\n",
    "update_env_variable(\"ASSISTANT_ID\", my_assistant.model_dump()['id'])"
   ]
  },
  {
   "cell_type": "code",
   "execution_count": 10,
   "metadata": {},
   "outputs": [],
   "source": [
    "import sqlite3\n",
    "\n",
    "# === Инициализация базы данных ===\n",
    "conn = sqlite3.connect(\"users.db\", check_same_thread=False)\n",
    "cur = conn.cursor()\n",
    "\n",
    "cur.execute(\"\"\"\n",
    "CREATE TABLE IF NOT EXISTS users (\n",
    "    user_id INTEGER PRIMARY KEY,\n",
    "    username TEXT,\n",
    "    thread_id TEXT\n",
    ")\n",
    "\"\"\")\n",
    "conn.commit()"
   ]
  },
  {
   "cell_type": "code",
   "execution_count": 11,
   "metadata": {},
   "outputs": [
    {
     "name": "stdout",
     "output_type": "stream",
     "text": [
      "Три пользователя успешно добавлены в базу данных.\n"
     ]
    }
   ],
   "source": [
    "# Подключаемся к существующей базе\n",
    "conn = sqlite3.connect(\"users.db\")\n",
    "cur = conn.cursor()\n",
    "\n",
    "# Список тестовых пользователей (user_id, username, thread_id)\n",
    "users = [\n",
    "    (1111111, \"user_one\", \"thread_abc123\"),\n",
    "    (2222222, \"user_two\", \"thread_def456\"),\n",
    "    (3333333, \"user_three\", \"thread_xyz789\"),\n",
    "]\n",
    "\n",
    "# Вставка данных\n",
    "cur.executemany(\n",
    "    \"INSERT OR REPLACE INTO users (user_id, username, thread_id) VALUES (?, ?, ?)\",\n",
    "    users\n",
    ")\n",
    "\n",
    "# Сохраняем изменения и закрываем соединение\n",
    "conn.commit()\n",
    "conn.close()\n",
    "\n",
    "print(\"Три пользователя успешно добавлены в базу данных.\")"
   ]
  },
  {
   "cell_type": "code",
   "execution_count": 12,
   "metadata": {},
   "outputs": [],
   "source": [
    "def add_user_to_db(user_id: int, username: str = \"\") -> str:\n",
    "    conn = sqlite3.connect(\"users.db\")\n",
    "    cur = conn.cursor()\n",
    "\n",
    "    # Проверим, есть ли уже такой пользователь\n",
    "    cur.execute(\"SELECT thread_id FROM users WHERE user_id = ?\", (user_id,))\n",
    "    existing = cur.fetchone()\n",
    "    if existing:\n",
    "        conn.close()\n",
    "        return existing[0]  # Уже есть, возвращаем существующий thread_id\n",
    "\n",
    "    # Создаём новый thread\n",
    "    # thread = client.beta.threads.create()\n",
    "\n",
    "    # Добавляем пользователя\n",
    "    cur.execute(\n",
    "        \"INSERT INTO users (user_id, username, thread_id) VALUES (?, ?, ?)\",\n",
    "        (user_id, username, 'thread_id')\n",
    "    )\n",
    "    conn.commit()\n",
    "    conn.close()"
   ]
  },
  {
   "cell_type": "code",
   "execution_count": 14,
   "metadata": {},
   "outputs": [
    {
     "name": "stdout",
     "output_type": "stream",
     "text": [
      "Добавлен новый пользователь с thread_id: None\n"
     ]
    }
   ],
   "source": [
    "new_thread_id = add_user_to_db(user_id=4444444, username=\"user_four\")\n",
    "print(f\"Добавлен новый пользователь с thread_id: {new_thread_id}\")"
   ]
  },
  {
   "cell_type": "code",
   "execution_count": 1,
   "metadata": {},
   "outputs": [
    {
     "ename": "UndefinedValueError",
     "evalue": "LOGIN not found. Declare it as envvar or define a default value.",
     "output_type": "error",
     "traceback": [
      "\u001b[0;31m---------------------------------------------------------------------------\u001b[0m",
      "\u001b[0;31mUndefinedValueError\u001b[0m                       Traceback (most recent call last)",
      "Cell \u001b[0;32mIn[1], line 5\u001b[0m\n\u001b[1;32m      1\u001b[0m \u001b[38;5;28;01mfrom\u001b[39;00m\u001b[38;5;250m \u001b[39m\u001b[38;5;21;01mpyrogram\u001b[39;00m\u001b[38;5;250m \u001b[39m\u001b[38;5;28;01mimport\u001b[39;00m Client\n\u001b[1;32m      2\u001b[0m \u001b[38;5;28;01mfrom\u001b[39;00m\u001b[38;5;250m \u001b[39m\u001b[38;5;21;01mdecouple\u001b[39;00m\u001b[38;5;250m \u001b[39m\u001b[38;5;28;01mimport\u001b[39;00m config\n\u001b[1;32m      4\u001b[0m bot \u001b[38;5;241m=\u001b[39m Client(\n\u001b[0;32m----> 5\u001b[0m     name\u001b[38;5;241m=\u001b[39m\u001b[43mconfig\u001b[49m\u001b[43m(\u001b[49m\u001b[38;5;124;43m'\u001b[39;49m\u001b[38;5;124;43mLOGIN\u001b[39;49m\u001b[38;5;124;43m'\u001b[39;49m\u001b[43m)\u001b[49m,\n\u001b[1;32m      6\u001b[0m     api_id\u001b[38;5;241m=\u001b[39mconfig(\u001b[38;5;124m'\u001b[39m\u001b[38;5;124mAPI_ID\u001b[39m\u001b[38;5;124m'\u001b[39m),\n\u001b[1;32m      7\u001b[0m     api_hash\u001b[38;5;241m=\u001b[39mconfig(\u001b[38;5;124m'\u001b[39m\u001b[38;5;124mAPI_HASH\u001b[39m\u001b[38;5;124m'\u001b[39m),\n\u001b[1;32m      8\u001b[0m     phone_number\u001b[38;5;241m=\u001b[39mconfig(\u001b[38;5;124m'\u001b[39m\u001b[38;5;124mPHONE\u001b[39m\u001b[38;5;124m'\u001b[39m)\n\u001b[1;32m      9\u001b[0m )\n\u001b[1;32m     10\u001b[0m bot\u001b[38;5;241m.\u001b[39mstart()\n",
      "File \u001b[0;32m~/Seller/venv/lib/python3.10/site-packages/decouple.py:248\u001b[0m, in \u001b[0;36mAutoConfig.__call__\u001b[0;34m(self, *args, **kwargs)\u001b[0m\n\u001b[1;32m    245\u001b[0m \u001b[38;5;28;01mif\u001b[39;00m \u001b[38;5;129;01mnot\u001b[39;00m \u001b[38;5;28mself\u001b[39m\u001b[38;5;241m.\u001b[39mconfig:\n\u001b[1;32m    246\u001b[0m     \u001b[38;5;28mself\u001b[39m\u001b[38;5;241m.\u001b[39m_load(\u001b[38;5;28mself\u001b[39m\u001b[38;5;241m.\u001b[39msearch_path \u001b[38;5;129;01mor\u001b[39;00m \u001b[38;5;28mself\u001b[39m\u001b[38;5;241m.\u001b[39m_caller_path())\n\u001b[0;32m--> 248\u001b[0m \u001b[38;5;28;01mreturn\u001b[39;00m \u001b[38;5;28;43mself\u001b[39;49m\u001b[38;5;241;43m.\u001b[39;49m\u001b[43mconfig\u001b[49m\u001b[43m(\u001b[49m\u001b[38;5;241;43m*\u001b[39;49m\u001b[43margs\u001b[49m\u001b[43m,\u001b[49m\u001b[43m \u001b[49m\u001b[38;5;241;43m*\u001b[39;49m\u001b[38;5;241;43m*\u001b[39;49m\u001b[43mkwargs\u001b[49m\u001b[43m)\u001b[49m\n",
      "File \u001b[0;32m~/Seller/venv/lib/python3.10/site-packages/decouple.py:107\u001b[0m, in \u001b[0;36mConfig.__call__\u001b[0;34m(self, *args, **kwargs)\u001b[0m\n\u001b[1;32m    103\u001b[0m \u001b[38;5;28;01mdef\u001b[39;00m\u001b[38;5;250m \u001b[39m\u001b[38;5;21m__call__\u001b[39m(\u001b[38;5;28mself\u001b[39m, \u001b[38;5;241m*\u001b[39margs, \u001b[38;5;241m*\u001b[39m\u001b[38;5;241m*\u001b[39mkwargs):\n\u001b[1;32m    104\u001b[0m \u001b[38;5;250m    \u001b[39m\u001b[38;5;124;03m\"\"\"\u001b[39;00m\n\u001b[1;32m    105\u001b[0m \u001b[38;5;124;03m    Convenient shortcut to get.\u001b[39;00m\n\u001b[1;32m    106\u001b[0m \u001b[38;5;124;03m    \"\"\"\u001b[39;00m\n\u001b[0;32m--> 107\u001b[0m     \u001b[38;5;28;01mreturn\u001b[39;00m \u001b[38;5;28;43mself\u001b[39;49m\u001b[38;5;241;43m.\u001b[39;49m\u001b[43mget\u001b[49m\u001b[43m(\u001b[49m\u001b[38;5;241;43m*\u001b[39;49m\u001b[43margs\u001b[49m\u001b[43m,\u001b[49m\u001b[43m \u001b[49m\u001b[38;5;241;43m*\u001b[39;49m\u001b[38;5;241;43m*\u001b[39;49m\u001b[43mkwargs\u001b[49m\u001b[43m)\u001b[49m\n",
      "File \u001b[0;32m~/Seller/venv/lib/python3.10/site-packages/decouple.py:92\u001b[0m, in \u001b[0;36mConfig.get\u001b[0;34m(self, option, default, cast)\u001b[0m\n\u001b[1;32m     90\u001b[0m \u001b[38;5;28;01melse\u001b[39;00m:\n\u001b[1;32m     91\u001b[0m     \u001b[38;5;28;01mif\u001b[39;00m \u001b[38;5;28misinstance\u001b[39m(default, Undefined):\n\u001b[0;32m---> 92\u001b[0m         \u001b[38;5;28;01mraise\u001b[39;00m UndefinedValueError(\u001b[38;5;124m'\u001b[39m\u001b[38;5;132;01m{}\u001b[39;00m\u001b[38;5;124m not found. Declare it as envvar or define a default value.\u001b[39m\u001b[38;5;124m'\u001b[39m\u001b[38;5;241m.\u001b[39mformat(option))\n\u001b[1;32m     94\u001b[0m     value \u001b[38;5;241m=\u001b[39m default\n\u001b[1;32m     96\u001b[0m \u001b[38;5;28;01mif\u001b[39;00m \u001b[38;5;28misinstance\u001b[39m(cast, Undefined):\n",
      "\u001b[0;31mUndefinedValueError\u001b[0m: LOGIN not found. Declare it as envvar or define a default value."
     ]
    }
   ],
   "source": [
    "from pyrogram import Client\n",
    "from decouple import config\n",
    "\n",
    "bot = Client(\n",
    "    name=config('LOGIN'),\n",
    "    api_id=config('API_ID'),\n",
    "    api_hash=config('API_HASH'),\n",
    "    phone_number=config('PHONE')\n",
    ")\n",
    "bot.start()"
   ]
  },
  {
   "cell_type": "code",
   "execution_count": null,
   "metadata": {},
   "outputs": [
    {
     "data": {
      "text/plain": [
       "<coroutine object Start.start at 0x7f703b56a260>"
      ]
     },
     "execution_count": 2,
     "metadata": {},
     "output_type": "execute_result"
    }
   ],
   "source": [
    "from database import*\n",
    "from pyrogram import Client\n",
    "from decouple import Config, RepositoryEnv\n",
    "import os\n",
    "\n",
    "config = Config(RepositoryEnv('/home/appuser/Seller/.env'))\n",
    "\n",
    "bot = Client(\n",
    "    name=config('LOGIN'),\n",
    "    api_id=config('API_ID'),\n",
    "    api_hash=config('API_HASH'),\n",
    "    phone_number=config('PHONE')\n",
    ")\n",
    "bot.start()\n",
    "\n",
    "await bot.connect()\n",
    "phone = '+79936321517'\n",
    "sCode = await bot.send_code(phone)\n",
    "code = input('Enter auth code: ')\n",
    "await bot.sign_in(phone, sCode.phone_code_hash, code)"
   ]
  },
  {
   "cell_type": "code",
   "execution_count": 1,
   "metadata": {},
   "outputs": [
    {
     "name": "stdout",
     "output_type": "stream",
     "text": [
      "+79376371117\n"
     ]
    }
   ],
   "source": [
    "from pyrogram import Client\n",
    "from decouple import Config, RepositoryEnv\n",
    "\n",
    "config = Config(RepositoryEnv('/home/appuser/Seller/.env'))\n",
    "\n",
    "bot = Client(\n",
    "    name=config('LOGIN'),\n",
    "    api_id=config('API_ID'),\n",
    "    api_hash=config('API_HASH'),\n",
    "    phone_number=config('PHONE')\n",
    ")\n",
    "\n",
    "print(config('PHONE'))"
   ]
  },
  {
   "cell_type": "code",
   "execution_count": 82,
   "metadata": {},
   "outputs": [],
   "source": [
    "from pyrogram.raw import functions, types\n",
    "from pyrogram import Client\n",
    "from decouple import Config, RepositoryEnv\n",
    "\n",
    "config = Config(RepositoryEnv('/home/appuser/Seller/.env'))\n",
    "\n",
    "bot = Client(\n",
    "    name=config('LOGIN'),\n",
    "    api_id=config('API_ID'),\n",
    "    api_hash=config('API_HASH'),\n",
    "    phone_number=config('PHONE')\n",
    ")"
   ]
  },
  {
   "cell_type": "code",
   "execution_count": 5,
   "metadata": {},
   "outputs": [
    {
     "name": "stdout",
     "output_type": "stream",
     "text": [
      "7312739864 Александр major_pt None 203196834816003768\n"
     ]
    }
   ],
   "source": [
    "async with bot:\n",
    "    # Используем raw API для создания InputUser\n",
    "    input_user = types.InputUser(user_id=7312739864 , access_hash=203196834816003768)\n",
    "    \n",
    "    result = await bot.invoke(\n",
    "        functions.users.GetUsers(id=[input_user])\n",
    "    )\n",
    "    \n",
    "    user = result[0]\n",
    "    print(user.id, user.first_name, user.username, user.phone, user.access_hash)"
   ]
  },
  {
   "cell_type": "code",
   "execution_count": 89,
   "metadata": {},
   "outputs": [],
   "source": [
    "async with bot:\n",
    "    user = await bot.get_users(778911974)\n",
    "    await bot.send_dice(778911974)"
   ]
  },
  {
   "cell_type": "code",
   "execution_count": 97,
   "metadata": {},
   "outputs": [
    {
     "name": "stdout",
     "output_type": "stream",
     "text": [
      "+-----------+---------------+------------+-------------+--------+-----------+----------+----------------+-------------+---------------------------+-----------+\n",
      "|        Id | Access Hash   | Username   | Telephone   | Name   |   Contact |   Banned |   Added to CRM | Thread ID   | Info                      | Summary   |\n",
      "+===========+===============+============+=============+========+===========+==========+================+=============+===========================+===========+\n",
      "| 778911974 |               | Endergosha |             |        |         0 |        0 |              0 |             | TG TELEPHONE NUBMER: None |           |\n",
      "+-----------+---------------+------------+-------------+--------+-----------+----------+----------------+-------------+---------------------------+-----------+\n"
     ]
    }
   ],
   "source": [
    "from database import*\n",
    "\n",
    "async with bot:\n",
    "    init_db()\n",
    "\n",
    "    delete_user_by_name('Endergosha')\n",
    "    # delete_user_by_name('abracadabra12331')\n",
    "    # delete_user_by_name('AleksnotAleks')\n",
    "    # delete_user_by_name('nickoraguaua')\n",
    "\n",
    "    await add_user_by_name(bot, 'Endergosha')\n",
    "    # await add_user_by_name(bot, 'abracadabra12331')\n",
    "    # await add_user_by_name(bot, 'AleksnotAleks')\n",
    "    # await add_user_by_name(bot, 'nickoraguaua')\n",
    "    # await add_user_by_name(bot, 'fly_paragliding')\n",
    "\n",
    "    show_users(sorted_by_contact=True)"
   ]
  },
  {
   "cell_type": "code",
   "execution_count": 98,
   "metadata": {},
   "outputs": [
    {
     "name": "stdout",
     "output_type": "stream",
     "text": [
      "+-----------+---------------------+------------+-------------+--------+-----------+----------+----------------+---------------------------------+---------------------------+-----------+\n",
      "|        Id |         Access Hash | Username   | Telephone   | Name   |   Contact |   Banned |   Added to CRM | Thread ID                       | Info                      | Summary   |\n",
      "+===========+=====================+============+=============+========+===========+==========+================+=================================+===========================+===========+\n",
      "| 778911974 | 1474220942745780297 | Endergosha |             |        |         0 |        0 |              0 | thread_mLcXHNq7woY3ZWs6dAa9bVF1 | TG TELEPHONE NUBMER: None |           |\n",
      "+-----------+---------------------+------------+-------------+--------+-----------+----------+----------------+---------------------------------+---------------------------+-----------+\n"
     ]
    }
   ],
   "source": [
    "show_users(sorted_by_contact=True)"
   ]
  }
 ],
 "metadata": {
  "kernelspec": {
   "display_name": "Python (venv)",
   "language": "python",
   "name": "venv"
  }
 },
 "nbformat": 4,
 "nbformat_minor": 2
}
